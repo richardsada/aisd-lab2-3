{
 "cells": [
  {
   "cell_type": "code",
   "execution_count": 8,
   "metadata": {},
   "outputs": [
    {
     "name": "stdout",
     "output_type": "stream",
     "text": [
      "Кратчайший путь из вершины 3 в вершину 7: 8\n"
     ]
    }
   ],
   "source": [
    "# Описание графа как словаря, где каждому узлу соответствует словарь его соседей с весами рёбер\n",
    "graph = {\n",
    "    1: {2: 3, 3: 8, 4: 4},\n",
    "    2: {6: 6},\n",
    "    3: {7: 8, 5: 7, 6: 6},\n",
    "    4: {3: 10, 5: 9},\n",
    "    5: {7: 7},\n",
    "    6: {7: 4},\n",
    "    7: {}\n",
    "}\n",
    "\n",
    "#хранение минимальных расстояний до каждой вершины\n",
    "min_dist = {}\n",
    "\n",
    "# Функция для нахождения кратчайшего пути с помощью рекурсии и мемоизации\n",
    "def shortest_path_dp(current, target):\n",
    "    # Если уже находимся в целевой вершине, расстояние равно 0\n",
    "    if current == target:\n",
    "        return 0\n",
    "\n",
    "    # Если результат для текущей вершины уже вычислен, используем его\n",
    "    if current in min_dist:\n",
    "        return min_dist[current]\n",
    "\n",
    "    # Устанавливаем минимальное расстояние как бесконечность\n",
    "    min_distance = float('inf')\n",
    "\n",
    "    # Проходим по всем соседям текущей вершины\n",
    "    for neighbor, weight in graph.get(current, {}).items():\n",
    "        # Рекурсивный вызов для вычисления кратчайшего пути до целевой вершины\n",
    "        distance = weight + shortest_path_dp(neighbor, target)\n",
    "        min_distance = min(min_distance, distance)\n",
    "\n",
    "    # Сохраняем вычисленное минимальное расстояние в min_dist\n",
    "    min_dist[current] = min_distance\n",
    "    return min_distance\n",
    "\n",
    "# Начальная и конечная вершины\n",
    "start = 3\n",
    "end = 7\n",
    "\n",
    "# Вызов функции для вычисления кратчайшего пути\n",
    "result = shortest_path_dp(start, end)\n",
    "\n",
    "# Если результат бесконечность, значит пути нет\n",
    "if result == float('inf'):\n",
    "    print(f\"Пути из вершины {start} в вершину {end} не существует.\")\n",
    "else:\n",
    "    print(f\"Кратчайший путь из вершины {start} в вершину {end}: {result}\")\n"
   ]
  },
  {
   "cell_type": "code",
   "execution_count": 12,
   "metadata": {},
   "outputs": [
    {
     "name": "stdout",
     "output_type": "stream",
     "text": [
      "[7, 6, 5, 4, 3, 2, 1]\n",
      "Кратчайший путь из вершины 3 в вершину 7: 8\n"
     ]
    }
   ],
   "source": [
    "def shortest_path_dynamic(graph, start, end):\n",
    "    # Получаем список всех вершин\n",
    "    vertices = sorted(graph.keys(), reverse=True)\n",
    "    print(vertices)\n",
    "    # Инициализируем массив минимальных затрат (f)\n",
    "    f = {v: float('inf') for v in vertices}\n",
    "    f[end] = 0  # Затраты для конечной вершины равны 0\n",
    "\n",
    "    # Рассчитываем значения f для каждой вершины в обратном порядке\n",
    "    for v in vertices:\n",
    "        for neighbor, weight in graph[v].items():  # Перебираем всех соседей текущей вершины\n",
    "            f[v] = min(f[v], weight + f[neighbor])\n",
    "\n",
    "    return f[start], f  # Возвращаем минимальную стоимость пути и все значения f\n",
    "\n",
    "\n",
    "# Заданный граф\n",
    "graph = {\n",
    "    1: {2: 3, 3: 8, 4: 4},\n",
    "    2: {6: 6},\n",
    "    3: {7: 8, 5: 7, 6: 6},\n",
    "    4: {3: 10, 5: 9},\n",
    "    5: {7: 7},\n",
    "    6: {7: 4},\n",
    "    7: {}\n",
    "}\n",
    "\n",
    "start = 3  # Начальная вершина\n",
    "end = 7    # Конечная вершина\n",
    "\n",
    "# Вызов функции\n",
    "shortest_cost, f_values = shortest_path_dynamic(graph, start, end)\n",
    "\n",
    "# Вывод результатов\n",
    "print(f\"Кратчайший путь из вершины {start} в вершину {end}: {shortest_cost}\")\n",
    "\n"
   ]
  },
  {
   "cell_type": "code",
   "execution_count": null,
   "metadata": {},
   "outputs": [],
   "source": []
  }
 ],
 "metadata": {
  "kernelspec": {
   "display_name": "Python 3",
   "language": "python",
   "name": "python3"
  },
  "language_info": {
   "codemirror_mode": {
    "name": "ipython",
    "version": 3
   },
   "file_extension": ".py",
   "mimetype": "text/x-python",
   "name": "python",
   "nbconvert_exporter": "python",
   "pygments_lexer": "ipython3",
   "version": "3.11.9"
  }
 },
 "nbformat": 4,
 "nbformat_minor": 2
}
