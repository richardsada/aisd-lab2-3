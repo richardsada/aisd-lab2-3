{
 "cells": [
  {
   "cell_type": "markdown",
   "metadata": {},
   "source": [
    "3. Разработать программу анализа арифметического выражения\n",
    "(рис.8).\n",
    "Программа должна:\n",
    "а) напечатать приглашение для ввода строки; прочитать с клавиатуры строку, введенную пользователем;\n",
    "б) с помощью стека проанализировать правильность расстановки\n",
    "круглых скобок: если в строке встретилась открывающая скобка, то записать ее в стек; если встретилась закрывающая скобка, то извлечь один\n",
    "символ из стека; операции записи и извлечения символа из стека реали-\n",
    "зовать в виде двух функций: PUSH и POP. Функция PUSH принимает\n",
    "символ и возвращает код возврата (0 - норма, 1 - переполнение стека),\n",
    "функция POP возвращает символ с вершины стека и код возврата (0 -\n",
    "норма, 1 - стек пуст);\n",
    "в) напечатать сообщение о правильности или ошибочности введенной строки;\n",
    "г) повторять действия, описанные в пп. а) - в), до тех пор, пока\n",
    "пользователь не введет пробел.\n"
   ]
  },
  {
   "cell_type": "code",
   "execution_count": null,
   "metadata": {},
   "outputs": [],
   "source": [
    "# Функция для добавления символа в стек\n",
    "def push(stack, char, max_size=100):\n",
    "    if len(stack) < max_size:\n",
    "        stack.append(char)\n",
    "        return 0  # 0 - добавлено успешно\n",
    "    else:\n",
    "        return 1  # 1 - переполнение стека\n",
    "\n",
    "# Функция для удаления символа с вершины стека\n",
    "def pop(stack):\n",
    "    if stack:\n",
    "        return stack.pop(), 0  # 0 - успешно удалено\n",
    "    else:\n",
    "        return None, 1  # 1 - стек пуст\n",
    "\n",
    "# Основная функция для проверки правильности расстановки скобок\n",
    "def check_parentheses(expression):\n",
    "    stack = []\n",
    "    for char in expression:\n",
    "        if char == '(':\n",
    "            code = push(stack, char)\n",
    "            if code == 1:\n",
    "                print(\"Ошибка: переполнение стека!\")\n",
    "                return False\n",
    "        elif char == ')':\n",
    "            popped_char, code = pop(stack)\n",
    "            if code == 1:\n",
    "                print(\"Ошибка: лишняя закрывающая скобка!\")\n",
    "                return False\n",
    "\n",
    "    # Если после обработки строки стек пуст, то скобки сбалансированы\n",
    "    if not stack:\n",
    "        return True\n",
    "    else:\n",
    "        print(\"Ошибка: лишняя открывающая скобка!\")\n",
    "        return False\n",
    "\n",
    "# Основной цикл программы\n",
    "def main():\n",
    "    while True:\n",
    "        expression = input(\"Введите арифметическое выражение (или пробел для завершения): \").strip()\n",
    "        \n",
    "        # Проверяем условие завершения\n",
    "        if expression == \" \":\n",
    "            print(\"Программа завершена.\")\n",
    "            break\n",
    "\n",
    "        # Проверяем правильность расстановки скобок\n",
    "        if check_parentheses(expression):\n",
    "            print(\"Скобки расставлены правильно.\")\n",
    "        else:\n",
    "            print(\"Ошибка в расстановке скобок.\")\n",
    "\n",
    "# Запуск программы\n",
    "\n",
    "main()\n"
   ]
  },
  {
   "attachments": {
    "image.png": {
     "image/png": "[encoded data removed]"
    }
   },
   "cell_type": "markdown",
   "metadata": {},
   "source": [
    "4. Написать программу для вычисления выражения an по формуле\n",
    "варианта, соответствующего номеру ЭВМ (варианты заданий). Вычисления организовать в виде рекурсивной функции. Программу выполнить по шагам, записать в конспекте последовательное изменение стека.\n",
    "![image.png](attachment:image.png)\n"
   ]
  },
  {
   "cell_type": "code",
   "execution_count": 6,
   "metadata": {},
   "outputs": [
    {
     "name": "stdout",
     "output_type": "stream",
     "text": [
      "a_10 = 3543.75\n"
     ]
    }
   ],
   "source": [
    "def factorial_recursive(n):\n",
    "    if n == 0 or n == 1:\n",
    "        return 1\n",
    "    else:\n",
    "        return n * factorial_recursive(n - 1)/2\n",
    "\n",
    "def calculate_an_recursive(n):\n",
    "  \n",
    "    \n",
    "    return factorial_recursive(n) / 2\n",
    "\n",
    "# Пример: вычисление для n = 5\n",
    "n = 10\n",
    "result = calculate_an_recursive(n)\n",
    "print(f\"a_{n} = {result}\")\n"
   ]
  },
  {
   "cell_type": "markdown",
   "metadata": {},
   "source": [
    "6. Составить программу для формирования элементов массива."
   ]
  },
  {
   "cell_type": "code",
   "execution_count": 14,
   "metadata": {},
   "outputs": [
    {
     "name": "stdout",
     "output_type": "stream",
     "text": [
      "a_10 = [0.5, 0.5, 0.75, 1.5, 3.75, 11.25, 39.375, 157.5, 708.75, 3543.75]\n"
     ]
    }
   ],
   "source": [
    "def factorial_recursive(n):\n",
    "    if n == 0 or n == 1:\n",
    "        return 1\n",
    "    else:\n",
    "        return n * factorial_recursive(n - 1)/2\n",
    "\n",
    "def calculate_an_recursive(n):\n",
    "    \n",
    "    return factorial_recursive(n) / 2\n",
    "\n",
    "# Пример: вычисление для n = 5\n",
    "n = 10\n",
    "a = []\n",
    "for i in range(1, n+1):        \n",
    "    result = calculate_an_recursive(i)\n",
    "    a.append(result)\n",
    "\n",
    "print(f\"a_{n} = {a}\")\n"
   ]
  },
  {
   "cell_type": "markdown",
   "metadata": {},
   "source": []
  },
  {
   "cell_type": "code",
   "execution_count": 18,
   "metadata": {},
   "outputs": [
    {
     "name": "stdout",
     "output_type": "stream",
     "text": [
      "Минимальное остовное дерево (Крускал):\n",
      "(1-2), вес = 1\n",
      "(2-4), вес = 1\n",
      "(3-1), вес = 1\n",
      "(2-5), вес = 2\n",
      "(5-6), вес = 3\n"
     ]
    }
   ],
   "source": [
    "class krus:\n",
    "    def __init__(self, n):\n",
    "        self.parent = list(range(n))  # каждый элемент является своим родителем\n",
    "\n",
    "    def find(self, u): # ищем корни\n",
    "        if self.parent[u] != u:\n",
    "            self.parent[u] = self.find(self.parent[u])  # Если элемент u не является корнем своего множества, то мы продолжаем искать его родителя.\n",
    "        return self.parent[u]\n",
    "\n",
    "    def union(self, u, v):\n",
    "        root_u = self.find(u)\n",
    "        root_v = self.find(v)\n",
    "        \n",
    "        if root_u != root_v:\n",
    "            self.parent[root_u] = root_v  # просто прикрепляем одно дерево к другому\n",
    "\n",
    "class Graph:\n",
    "    def __init__(self, vertices):\n",
    "        self.V = vertices\n",
    "        self.edges = []\n",
    "\n",
    "    def add_edge(self, weight, u, v):\n",
    "        self.edges.append((weight, u - 1, v - 1))  # Преобразуем индексы в 0-based тк мы пишем индексы с 1, а питон с 0\n",
    "\n",
    "    def kruskal(self):\n",
    "        derevo = []\n",
    "        disjoint_set = krus(self.V)\n",
    "        \n",
    "        # Сортируем ребра по весу\n",
    "        self.edges.sort()\n",
    "        \n",
    "        for weight, u, v in self.edges:\n",
    "            if disjoint_set.find(u) != disjoint_set.find(v): # если корни не равны то объединяем множества\n",
    "                derevo.append((u + 1, v + 1, weight))  # Возвращаем индексы к 1-based\n",
    "                disjoint_set.union(u, v)\n",
    "                \n",
    "        return derevo\n",
    "\n",
    "# Пример использования\n",
    "g = Graph(6)\n",
    "g.add_edge(1, 1, 2)\n",
    "g.add_edge(1, 3, 1)\n",
    "g.add_edge(3, 2, 3)\n",
    "g.add_edge(1, 2, 4)\n",
    "g.add_edge(2, 3, 4)\n",
    "g.add_edge(2, 2, 5)\n",
    "g.add_edge(2, 5, 4)\n",
    "g.add_edge(3, 5, 6)\n",
    "g.add_edge(5, 6, 4)\n",
    "\n",
    "derevo_kruskal = g.kruskal()\n",
    "print(\"Минимальное остовное дерево (Крускал):\")\n",
    "for edge in derevo_kruskal:\n",
    "    print(f\"({edge[0]}-{edge[1]}), вес = {edge[2]}\")\n"
   ]
  },
  {
   "cell_type": "code",
   "execution_count": 22,
   "metadata": {},
   "outputs": [
    {
     "name": "stdout",
     "output_type": "stream",
     "text": [
      "Минимальное остовное дерево (Прима):\n",
      "(1-2), вес = 1\n",
      "(1-3), вес = 1\n",
      "(2-4), вес = 1\n",
      "(2-5), вес = 2\n",
      "(5-6), вес = 3\n"
     ]
    }
   ],
   "source": [
    "import heapq\n",
    "\n",
    "class Graph:\n",
    "    def __init__(self, vertices): #вершины\n",
    "        self.V = vertices\n",
    "        self.graph = {i: [] for i in range(vertices)}\n",
    "\n",
    "    def add_edge(self, weight, u, v):\n",
    "        self.graph[u - 1].append((weight, v - 1))  # Преобразуем индексы в 0-based\n",
    "        self.graph[v - 1].append((weight, u - 1))  # для неориентированного графа\n",
    "\n",
    "    def prim(self): \n",
    "        derevo = []\n",
    "        visited = [False] * self.V # отслеживаем посещенные вепшины\n",
    "        min_heap = [(0, 0, -1)]  # (вес, текущая вершина, родитель)\n",
    "        \n",
    "        while min_heap: # пока есть вершины, которые не были добавлены в дерево\n",
    "            weight, u, parent = heapq.heappop(min_heap) # вершину с минимальным весом из кучи\n",
    "            if visited[u]:\n",
    "                continue # ЕСЛИ посетили то пропускаем итерацию\n",
    "            visited[u] = True\n",
    "            if parent != -1:\n",
    "                derevo.append((parent + 1, u + 1, weight))  # Возвращаем индексы к 1-based\n",
    "\n",
    "            for edge_weight, v in self.graph[u]: # Для каждой соседней вершины v\n",
    "                if not visited[v]:\n",
    "                    heapq.heappush(min_heap, (edge_weight, v, u))#  Добавляем ребро (u, v) в кучу с весом edge_weight и указываем, что родителем вершины v является u.\n",
    "        \n",
    "        return derevo\n",
    "\n",
    "# Пример использования\n",
    "g = Graph(6)\n",
    "g.add_edge(1, 1, 2)\n",
    "g.add_edge(1, 3, 1)\n",
    "g.add_edge(3, 2, 3)\n",
    "g.add_edge(1, 2, 4)\n",
    "g.add_edge(2, 3, 4)\n",
    "g.add_edge(2, 2, 5)\n",
    "g.add_edge(2, 5, 4)\n",
    "g.add_edge(3, 5, 6)\n",
    "g.add_edge(5, 6, 4)\n",
    "\n",
    "derevo_prim = g.prim()\n",
    "print(\"Минимальное остовное дерево (Прима):\")\n",
    "for edge in derevo_prim:\n",
    "    print(f\"({edge[0]}-{edge[1]}), вес = {edge[2]}\")\n"
   ]
  },
  {
   "cell_type": "markdown",
   "metadata": {},
   "source": []
  },
  {
   "cell_type": "code",
   "execution_count": null,
   "metadata": {},
   "outputs": [],
   "source": []
  },
  {
   "cell_type": "code",
   "execution_count": 21,
   "metadata": {},
   "outputs": [
    {
     "ename": "UnboundLocalError",
     "evalue": "cannot access local variable 'u' where it is not associated with a value",
     "output_type": "error",
     "traceback": [
      "\u001b[1;31m---------------------------------------------------------------------------\u001b[0m",
      "\u001b[1;31mUnboundLocalError\u001b[0m                         Traceback (most recent call last)",
      "Cell \u001b[1;32mIn[21], line 46\u001b[0m\n\u001b[0;32m     43\u001b[0m g\u001b[38;5;241m.\u001b[39madd_edge(\u001b[38;5;241m3\u001b[39m, \u001b[38;5;241m5\u001b[39m, \u001b[38;5;241m6\u001b[39m)\n\u001b[0;32m     44\u001b[0m g\u001b[38;5;241m.\u001b[39madd_edge(\u001b[38;5;241m5\u001b[39m, \u001b[38;5;241m6\u001b[39m, \u001b[38;5;241m4\u001b[39m)\n\u001b[1;32m---> 46\u001b[0m derevo_prim \u001b[38;5;241m=\u001b[39m \u001b[43mg\u001b[49m\u001b[38;5;241;43m.\u001b[39;49m\u001b[43mprim\u001b[49m\u001b[43m(\u001b[49m\u001b[43m)\u001b[49m\n\u001b[0;32m     47\u001b[0m \u001b[38;5;28mprint\u001b[39m(\u001b[38;5;124m\"\u001b[39m\u001b[38;5;124mМинимальное остовное дерево (Прима):\u001b[39m\u001b[38;5;124m\"\u001b[39m)\n\u001b[0;32m     48\u001b[0m \u001b[38;5;28;01mfor\u001b[39;00m edge \u001b[38;5;129;01min\u001b[39;00m derevo_prim:\n",
      "Cell \u001b[1;32mIn[21], line 16\u001b[0m, in \u001b[0;36mGraph.prim\u001b[1;34m(self)\u001b[0m\n\u001b[0;32m     14\u001b[0m visited \u001b[38;5;241m=\u001b[39m [\u001b[38;5;28;01mFalse\u001b[39;00m] \u001b[38;5;241m*\u001b[39m \u001b[38;5;28mself\u001b[39m\u001b[38;5;241m.\u001b[39mV \u001b[38;5;66;03m# отслеживаем посещенные вепшины\u001b[39;00m\n\u001b[0;32m     15\u001b[0m min_heap \u001b[38;5;241m=\u001b[39m []  \u001b[38;5;66;03m# (вес, текущая вершина, родитель)\u001b[39;00m\n\u001b[1;32m---> 16\u001b[0m \u001b[38;5;28;01mfor\u001b[39;00m edge_weight, v \u001b[38;5;129;01min\u001b[39;00m \u001b[38;5;28mself\u001b[39m\u001b[38;5;241m.\u001b[39mgraph[\u001b[43mu\u001b[49m]:\n\u001b[0;32m     17\u001b[0m         \u001b[38;5;28;01mif\u001b[39;00m \u001b[38;5;129;01mnot\u001b[39;00m visited[v]:\n\u001b[0;32m     18\u001b[0m             heapq\u001b[38;5;241m.\u001b[39mheappush(min_heap, (edge_weight, v, u))\n",
      "\u001b[1;31mUnboundLocalError\u001b[0m: cannot access local variable 'u' where it is not associated with a value"
     ]
    }
   ],
   "source": []
  },
  {
   "cell_type": "code",
   "execution_count": null,
   "metadata": {},
   "outputs": [],
   "source": []
  }
 ],
 "metadata": {
  "kernelspec": {
   "display_name": "Python 3",
   "language": "python",
   "name": "python3"
  },
  "language_info": {
   "codemirror_mode": {
    "name": "ipython",
    "version": 3
   },
   "file_extension": ".py",
   "mimetype": "text/x-python",
   "name": "python",
   "nbconvert_exporter": "python",
   "pygments_lexer": "ipython3",
   "version": "3.11.9"
  }
 },
 "nbformat": 4,
 "nbformat_minor": 2
}
